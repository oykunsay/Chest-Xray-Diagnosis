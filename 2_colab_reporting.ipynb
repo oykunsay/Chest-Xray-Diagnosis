{
  "nbformat": 4,
  "nbformat_minor": 0,
  "metadata": {
    "colab": {
      "provenance": []
    },
    "kernelspec": {
      "name": "python3",
      "display_name": "Python 3"
    },
    "language_info": {
      "name": "python"
    }
  },
  "cells": [
    {
      "cell_type": "code",
      "source": [
        "# 1. Gerekli paketleri yükleyin\n",
        "!pip install -q efficientnet_pytorch transformers Pillow"
      ],
      "metadata": {
        "id": "KEeV8NqfakLu",
        "colab": {
          "base_uri": "https://localhost:8080/"
        },
        "outputId": "23a078c0-1d91-40cf-834f-be33951ba247"
      },
      "execution_count": null,
      "outputs": [
        {
          "output_type": "stream",
          "name": "stdout",
          "text": [
            "  Preparing metadata (setup.py) ... \u001b[?25l\u001b[?25hdone\n",
            "\u001b[2K   \u001b[90m━━━━━━━━━━━━━━━━━━━━━━━━━━━━━━━━━━━━━━━━\u001b[0m \u001b[32m363.4/363.4 MB\u001b[0m \u001b[31m4.6 MB/s\u001b[0m eta \u001b[36m0:00:00\u001b[0m\n",
            "\u001b[2K   \u001b[90m━━━━━━━━━━━━━━━━━━━━━━━━━━━━━━━━━━━━━━━━\u001b[0m \u001b[32m13.8/13.8 MB\u001b[0m \u001b[31m45.0 MB/s\u001b[0m eta \u001b[36m0:00:00\u001b[0m\n",
            "\u001b[2K   \u001b[90m━━━━━━━━━━━━━━━━━━━━━━━━━━━━━━━━━━━━━━━━\u001b[0m \u001b[32m24.6/24.6 MB\u001b[0m \u001b[31m28.9 MB/s\u001b[0m eta \u001b[36m0:00:00\u001b[0m\n",
            "\u001b[2K   \u001b[90m━━━━━━━━━━━━━━━━━━━━━━━━━━━━━━━━━━━━━━━━\u001b[0m \u001b[32m883.7/883.7 kB\u001b[0m \u001b[31m27.7 MB/s\u001b[0m eta \u001b[36m0:00:00\u001b[0m\n",
            "\u001b[2K   \u001b[90m━━━━━━━━━━━━━━━━━━━━━━━━━━━━━━━━━━━━━━━━\u001b[0m \u001b[32m664.8/664.8 MB\u001b[0m \u001b[31m2.9 MB/s\u001b[0m eta \u001b[36m0:00:00\u001b[0m\n",
            "\u001b[2K   \u001b[90m━━━━━━━━━━━━━━━━━━━━━━━━━━━━━━━━━━━━━━━━\u001b[0m \u001b[32m211.5/211.5 MB\u001b[0m \u001b[31m5.0 MB/s\u001b[0m eta \u001b[36m0:00:00\u001b[0m\n",
            "\u001b[2K   \u001b[90m━━━━━━━━━━━━━━━━━━━━━━━━━━━━━━━━━━━━━━━━\u001b[0m \u001b[32m56.3/56.3 MB\u001b[0m \u001b[31m12.6 MB/s\u001b[0m eta \u001b[36m0:00:00\u001b[0m\n",
            "\u001b[2K   \u001b[90m━━━━━━━━━━━━━━━━━━━━━━━━━━━━━━━━━━━━━━━━\u001b[0m \u001b[32m127.9/127.9 MB\u001b[0m \u001b[31m8.6 MB/s\u001b[0m eta \u001b[36m0:00:00\u001b[0m\n",
            "\u001b[2K   \u001b[90m━━━━━━━━━━━━━━━━━━━━━━━━━━━━━━━━━━━━━━━━\u001b[0m \u001b[32m207.5/207.5 MB\u001b[0m \u001b[31m2.9 MB/s\u001b[0m eta \u001b[36m0:00:00\u001b[0m\n",
            "\u001b[2K   \u001b[90m━━━━━━━━━━━━━━━━━━━━━━━━━━━━━━━━━━━━━━━━\u001b[0m \u001b[32m21.1/21.1 MB\u001b[0m \u001b[31m40.6 MB/s\u001b[0m eta \u001b[36m0:00:00\u001b[0m\n",
            "\u001b[?25h  Building wheel for efficientnet_pytorch (setup.py) ... \u001b[?25l\u001b[?25hdone\n"
          ]
        }
      ]
    },
    {
      "cell_type": "code",
      "source": [
        "!pip install sacremoses"
      ],
      "metadata": {
        "colab": {
          "base_uri": "https://localhost:8080/"
        },
        "id": "_VxFh535fg1j",
        "outputId": "c1baae77-b277-4e7c-e0c1-7095fb6e502e"
      },
      "execution_count": null,
      "outputs": [
        {
          "output_type": "stream",
          "name": "stdout",
          "text": [
            "Collecting sacremoses\n",
            "  Downloading sacremoses-0.1.1-py3-none-any.whl.metadata (8.3 kB)\n",
            "Requirement already satisfied: regex in /usr/local/lib/python3.11/dist-packages (from sacremoses) (2024.11.6)\n",
            "Requirement already satisfied: click in /usr/local/lib/python3.11/dist-packages (from sacremoses) (8.2.1)\n",
            "Requirement already satisfied: joblib in /usr/local/lib/python3.11/dist-packages (from sacremoses) (1.5.0)\n",
            "Requirement already satisfied: tqdm in /usr/local/lib/python3.11/dist-packages (from sacremoses) (4.67.1)\n",
            "Downloading sacremoses-0.1.1-py3-none-any.whl (897 kB)\n",
            "\u001b[2K   \u001b[90m━━━━━━━━━━━━━━━━━━━━━━━━━━━━━━━━━━━━━━━━\u001b[0m \u001b[32m897.5/897.5 kB\u001b[0m \u001b[31m12.2 MB/s\u001b[0m eta \u001b[36m0:00:00\u001b[0m\n",
            "\u001b[?25hInstalling collected packages: sacremoses\n",
            "Successfully installed sacremoses-0.1.1\n"
          ]
        }
      ]
    },
    {
      "cell_type": "code",
      "source": [
        "import torch\n",
        "from torchvision import transforms\n",
        "from PIL import Image\n",
        "from efficientnet_pytorch import EfficientNet\n",
        "from transformers import AutoTokenizer, AutoModelForCausalLM\n",
        "from google.colab import files\n",
        "import os"
      ],
      "metadata": {
        "id": "R5Eg2FoOaKAb"
      },
      "execution_count": null,
      "outputs": []
    },
    {
      "cell_type": "code",
      "source": [
        "# 2. NIH ChestX-ray14 etiketleri\n",
        "CLASSES = [\n",
        "    \"Atelectasis\", \"Cardiomegaly\", \"Effusion\", \"Infiltration\",\n",
        "    \"Mass\", \"Nodule\", \"Pneumonia\", \"Pneumothorax\",\n",
        "    \"Consolidation\", \"Edema\", \"Emphysema\", \"Fibrosis\",\n",
        "    \"Pleural_Thickening\", \"Hernia\", \"No Finding\"\n",
        "]"
      ],
      "metadata": {
        "id": "lTZ2oTv_aLPp"
      },
      "execution_count": null,
      "outputs": []
    },
    {
      "cell_type": "code",
      "source": [
        "# rapor şablonu\n",
        "def generate_professional_report(pred_labels, probs, class_names, patient_info=None, exam_date=None):\n",
        "    import datetime\n",
        "    normal_findings = []\n",
        "    abnormal_findings = []\n",
        "\n",
        "    pred_labels_set = set([l.replace(\" \", \"\").replace(\"_\", \"\").lower() for l in pred_labels])\n",
        "\n",
        "    for idx, cname in enumerate(class_names):\n",
        "        cname_norm = cname.replace(\" \", \"\").replace(\"_\", \"\").lower()\n",
        "        if cname_norm in pred_labels_set:\n",
        "            abnormal_findings.append((cname, probs[idx]))\n",
        "        else:\n",
        "            normal_findings.append((cname, probs[idx]))\n",
        "\n",
        "\n",
        "    no_finding_norm = \"nofinding\"\n",
        "    if (no_finding_norm in pred_labels_set) and (len(pred_labels_set) == 1):\n",
        "        today = datetime.date.today()\n",
        "        header = \"TORAKS RADYOGRAFİ RAPORU\\n\\n\"\n",
        "        if patient_info:\n",
        "            header += f\"Hasta Bilgileri: {patient_info}\\n\"\n",
        "        if exam_date:\n",
        "            header += f\"Çekim Tarihi: {exam_date}\\n\"\n",
        "        else:\n",
        "            header += f\"Rapor Tarihi: {today.strftime('%Y-%m-%d')}\\n\"\n",
        "        header += \"\\n\"\n",
        "        teknik = \"Teknik: PA ve lateral akciğer grafisi değerlendirilmiştir.\\n\\n\"\n",
        "        parankim = \"Akciğer Parankimi:\\n- Akciğer parankiminde patolojik opasite izlenmemektedir.\\n\"\n",
        "        plevra = \"\\nPlevra:\\n- Plevra yapıları doğaldır.\\n\"\n",
        "        mediastinum = \"\\nMediastinum ve Kalp:\\n- Kalp konturları ve mediastinal yapılar normal sınırlardadır.\\n\"\n",
        "        diyafram = \"\\nDiyafram ve Kostalar:\\n- Diyafram ve kostalarda patolojik bulgu izlenmemektedir.\\n\"\n",
        "        sonuc = \"\\nSonuç:\\n- Patolojik bulgu saptanmamıştır.\\n\"\n",
        "        sonuc += \"\\nÖneri:\\n- Klinik ve laboratuvar bulgular ile birlikte değerlendirilmesi önerilir.\\n\"\n",
        "        return header + teknik + parankim + plevra + mediastinum + diyafram + sonuc\n",
        "\n",
        "\n",
        "    today = datetime.date.today()\n",
        "    header = \"TORAKS RADYOGRAFİ RAPORU\\n\\n\"\n",
        "    if patient_info:\n",
        "        header += f\"Hasta Bilgileri: {patient_info}\\n\"\n",
        "    if exam_date:\n",
        "        header += f\"Çekim Tarihi: {exam_date}\\n\"\n",
        "    else:\n",
        "        header += f\"Rapor Tarihi: {today.strftime('%Y-%m-%d')}\\n\"\n",
        "    header += \"\\n\"\n",
        "\n",
        "    teknik = \"Teknik: PA ve lateral akciğer grafisi değerlendirilmiştir.\\n\\n\"\n",
        "\n",
        "    # Akciğer parankimi\n",
        "    parankim = \"Akciğer Parankimi:\\n\"\n",
        "    if any(f[0] in [\"Infiltration\", \"Pneumonia\"] for f in abnormal_findings):\n",
        "        parankim += \"- Akciğer alanlarında infiltrasyon ve pnömoni ile uyumlu opasiteler izlenmektedir.\\n\"\n",
        "    if any(f[0] == \"Nodule\" for f in abnormal_findings):\n",
        "        parankim += \"- Nodüler opasiteler dikkati çekmektedir.\\n\"\n",
        "    if any(f[0] == \"Fibrosis\" for f in abnormal_findings):\n",
        "        parankim += \"- Fibrotik değişiklikler mevcuttur.\\n\"\n",
        "    if any(f[0] == \"Edema\" for f in abnormal_findings):\n",
        "        parankim += \"- Artmış interstisyel opasiteler ve ödem bulguları izlenmektedir.\\n\"\n",
        "    if not any(f[0] in [\"Infiltration\", \"Pneumonia\", \"Nodule\", \"Fibrosis\", \"Edema\"] for f in abnormal_findings):\n",
        "        parankim += \"- Akciğer parankiminde patolojik opasite izlenmemektedir.\\n\"\n",
        "\n",
        "    # Plevra\n",
        "    plevra = \"\\nPlevra:\\n\"\n",
        "    if any(f[0] == \"Effusion\" for f in abnormal_findings):\n",
        "        plevra += \"- Plevral efüzyon izlenmektedir.\\n\"\n",
        "    if any(\"pleural\" in f[0].lower() for f in abnormal_findings):\n",
        "        plevra += \"- Plevral kalınlaşma mevcuttur.\\n\"\n",
        "    else:\n",
        "        plevra += \"- Plevra yapıları doğaldır.\\n\"\n",
        "\n",
        "    # Mediastinum ve kalp\n",
        "    mediastinum = \"\\nMediastinum ve Kalp:\\n\"\n",
        "    if any(f[0] == \"Cardiomegaly\" for f in abnormal_findings):\n",
        "        mediastinum += \"- Kardiyomegali izlenmektedir.\\n\"\n",
        "    else:\n",
        "        mediastinum += \"- Kalp konturları ve mediastinal yapılar normal sınırlardadır.\\n\"\n",
        "\n",
        "    # Diyafram ve kostalar\n",
        "    diyafram = \"\\nDiyafram ve Kostalar:\\n- Diyafram ve kostalarda patolojik bulgu izlenmemektedir.\\n\"\n",
        "\n",
        "    # Sonuç\n",
        "    sonuc = \"\\nSonuç:\\n\"\n",
        "    if abnormal_findings:\n",
        "        bulgular = [f\"{f[0]} (olasılık: {f[1]:.2f})\" for f in abnormal_findings if f[0] != \"No Finding\"]\n",
        "        if bulgular:\n",
        "            sonuc += \"- \" + \", \".join(bulgular) + \" ile uyumlu bulgular izlenmiştir.\\n\"\n",
        "        if any(f[0] == \"No Finding\" for f in abnormal_findings):\n",
        "            sonuc += \"- Ek olarak, No Finding etiketi de pozitif saptanmıştır. Klinik uyum önerilir.\\n\"\n",
        "    else:\n",
        "        sonuc += \"- Patolojik bulgu saptanmamıştır.\\n\"\n",
        "\n",
        "    sonuc += \"\\nÖneri:\\n- Klinik ve laboratuvar bulgular ile birlikte değerlendirilmesi, gerekirse ileri tetkik (BT/HRCT) önerilir.\\n\"\n",
        "\n",
        "    report = header + teknik + parankim + plevra + mediastinum + diyafram + sonuc\n",
        "    return report"
      ],
      "metadata": {
        "id": "oL1VVCEDg4aP"
      },
      "execution_count": null,
      "outputs": []
    },
    {
      "cell_type": "code",
      "source": [
        "# 3. EfficientNet-b0 yükleme\n",
        "def load_efficientnet_model(weight_path, num_classes=15, device='cpu'):\n",
        "    model = EfficientNet.from_name('efficientnet-b0')\n",
        "    model._fc = torch.nn.Linear(model._fc.in_features, num_classes)\n",
        "    model.load_state_dict(torch.load(weight_path, map_location=device))\n",
        "    model.eval()\n",
        "    return model"
      ],
      "metadata": {
        "id": "wQUScOfXaLMz"
      },
      "execution_count": null,
      "outputs": []
    },
    {
      "cell_type": "code",
      "source": [
        "# 4. Görsel işleme\n",
        "def preprocess_image(image_path):\n",
        "    transform = transforms.Compose([\n",
        "        transforms.Resize(224),\n",
        "        transforms.CenterCrop(224),\n",
        "        transforms.ToTensor(),\n",
        "        transforms.Normalize([0.485, 0.456, 0.406], [0.229, 0.224, 0.225])\n",
        "    ])\n",
        "    img = Image.open(image_path).convert('RGB')\n",
        "    input_tensor = transform(img).unsqueeze(0)\n",
        "    return input_tensor"
      ],
      "metadata": {
        "id": "_Awu73GxaLKN"
      },
      "execution_count": null,
      "outputs": []
    },
    {
      "cell_type": "code",
      "source": [
        "# 5. Tahmin fonk\n",
        "def predict_labels(model, input_tensor, threshold=0.5, device='cpu'):\n",
        "    input_tensor = input_tensor.to(device)\n",
        "    with torch.no_grad():\n",
        "        outputs = model(input_tensor)\n",
        "        probs = torch.sigmoid(outputs)[0].cpu().numpy()\n",
        "    pred_labels = [CLASSES[i] for i, p in enumerate(probs) if p > threshold]\n",
        "    return pred_labels, probs"
      ],
      "metadata": {
        "id": "czGkxYq6aLHp"
      },
      "execution_count": null,
      "outputs": []
    },
    {
      "cell_type": "code",
      "source": [
        "# eğitilmiş modeli yükleme\n",
        "model_filename = '/content/drive/MyDrive/biochexeff-torch-nih/efficientnet_b0_nih_chestxray_val07834.pth'\n",
        "if not os.path.exists(model_filename):\n",
        "    raise Exception(\"Model dosyası bulunamadı!\")"
      ],
      "metadata": {
        "id": "5air9T5xCDOm"
      },
      "execution_count": null,
      "outputs": []
    },
    {
      "cell_type": "code",
      "source": [
        "print(\"Bir röntgen görseli (.jpg, .png, .bmp) yükleyin:\")\n",
        "uploaded_img = files.upload()\n",
        "image_filename = None\n",
        "for fn in uploaded_img.keys():\n",
        "    if fn.lower().endswith(('.jpg', '.jpeg', '.png', '.bmp')):\n",
        "        image_filename = fn\n",
        "        break\n",
        "if not image_filename:\n",
        "    raise Exception(\"Görüntü dosyası yüklenmedi!\")"
      ],
      "metadata": {
        "colab": {
          "base_uri": "https://localhost:8080/",
          "height": 90
        },
        "id": "ZO85U9DxhZC8",
        "outputId": "807ccb73-2869-4e60-c8e3-ae365b332d7d"
      },
      "execution_count": null,
      "outputs": [
        {
          "output_type": "stream",
          "name": "stdout",
          "text": [
            "Bir röntgen görseli (.jpg, .png, .bmp) yükleyin:\n"
          ]
        },
        {
          "output_type": "display_data",
          "data": {
            "text/plain": [
              "<IPython.core.display.HTML object>"
            ],
            "text/html": [
              "\n",
              "     <input type=\"file\" id=\"files-c03aeb05-a5aa-4859-b16d-797110a3a10e\" name=\"files[]\" multiple disabled\n",
              "        style=\"border:none\" />\n",
              "     <output id=\"result-c03aeb05-a5aa-4859-b16d-797110a3a10e\">\n",
              "      Upload widget is only available when the cell has been executed in the\n",
              "      current browser session. Please rerun this cell to enable.\n",
              "      </output>\n",
              "      <script>// Copyright 2017 Google LLC\n",
              "//\n",
              "// Licensed under the Apache License, Version 2.0 (the \"License\");\n",
              "// you may not use this file except in compliance with the License.\n",
              "// You may obtain a copy of the License at\n",
              "//\n",
              "//      http://www.apache.org/licenses/LICENSE-2.0\n",
              "//\n",
              "// Unless required by applicable law or agreed to in writing, software\n",
              "// distributed under the License is distributed on an \"AS IS\" BASIS,\n",
              "// WITHOUT WARRANTIES OR CONDITIONS OF ANY KIND, either express or implied.\n",
              "// See the License for the specific language governing permissions and\n",
              "// limitations under the License.\n",
              "\n",
              "/**\n",
              " * @fileoverview Helpers for google.colab Python module.\n",
              " */\n",
              "(function(scope) {\n",
              "function span(text, styleAttributes = {}) {\n",
              "  const element = document.createElement('span');\n",
              "  element.textContent = text;\n",
              "  for (const key of Object.keys(styleAttributes)) {\n",
              "    element.style[key] = styleAttributes[key];\n",
              "  }\n",
              "  return element;\n",
              "}\n",
              "\n",
              "// Max number of bytes which will be uploaded at a time.\n",
              "const MAX_PAYLOAD_SIZE = 100 * 1024;\n",
              "\n",
              "function _uploadFiles(inputId, outputId) {\n",
              "  const steps = uploadFilesStep(inputId, outputId);\n",
              "  const outputElement = document.getElementById(outputId);\n",
              "  // Cache steps on the outputElement to make it available for the next call\n",
              "  // to uploadFilesContinue from Python.\n",
              "  outputElement.steps = steps;\n",
              "\n",
              "  return _uploadFilesContinue(outputId);\n",
              "}\n",
              "\n",
              "// This is roughly an async generator (not supported in the browser yet),\n",
              "// where there are multiple asynchronous steps and the Python side is going\n",
              "// to poll for completion of each step.\n",
              "// This uses a Promise to block the python side on completion of each step,\n",
              "// then passes the result of the previous step as the input to the next step.\n",
              "function _uploadFilesContinue(outputId) {\n",
              "  const outputElement = document.getElementById(outputId);\n",
              "  const steps = outputElement.steps;\n",
              "\n",
              "  const next = steps.next(outputElement.lastPromiseValue);\n",
              "  return Promise.resolve(next.value.promise).then((value) => {\n",
              "    // Cache the last promise value to make it available to the next\n",
              "    // step of the generator.\n",
              "    outputElement.lastPromiseValue = value;\n",
              "    return next.value.response;\n",
              "  });\n",
              "}\n",
              "\n",
              "/**\n",
              " * Generator function which is called between each async step of the upload\n",
              " * process.\n",
              " * @param {string} inputId Element ID of the input file picker element.\n",
              " * @param {string} outputId Element ID of the output display.\n",
              " * @return {!Iterable<!Object>} Iterable of next steps.\n",
              " */\n",
              "function* uploadFilesStep(inputId, outputId) {\n",
              "  const inputElement = document.getElementById(inputId);\n",
              "  inputElement.disabled = false;\n",
              "\n",
              "  const outputElement = document.getElementById(outputId);\n",
              "  outputElement.innerHTML = '';\n",
              "\n",
              "  const pickedPromise = new Promise((resolve) => {\n",
              "    inputElement.addEventListener('change', (e) => {\n",
              "      resolve(e.target.files);\n",
              "    });\n",
              "  });\n",
              "\n",
              "  const cancel = document.createElement('button');\n",
              "  inputElement.parentElement.appendChild(cancel);\n",
              "  cancel.textContent = 'Cancel upload';\n",
              "  const cancelPromise = new Promise((resolve) => {\n",
              "    cancel.onclick = () => {\n",
              "      resolve(null);\n",
              "    };\n",
              "  });\n",
              "\n",
              "  // Wait for the user to pick the files.\n",
              "  const files = yield {\n",
              "    promise: Promise.race([pickedPromise, cancelPromise]),\n",
              "    response: {\n",
              "      action: 'starting',\n",
              "    }\n",
              "  };\n",
              "\n",
              "  cancel.remove();\n",
              "\n",
              "  // Disable the input element since further picks are not allowed.\n",
              "  inputElement.disabled = true;\n",
              "\n",
              "  if (!files) {\n",
              "    return {\n",
              "      response: {\n",
              "        action: 'complete',\n",
              "      }\n",
              "    };\n",
              "  }\n",
              "\n",
              "  for (const file of files) {\n",
              "    const li = document.createElement('li');\n",
              "    li.append(span(file.name, {fontWeight: 'bold'}));\n",
              "    li.append(span(\n",
              "        `(${file.type || 'n/a'}) - ${file.size} bytes, ` +\n",
              "        `last modified: ${\n",
              "            file.lastModifiedDate ? file.lastModifiedDate.toLocaleDateString() :\n",
              "                                    'n/a'} - `));\n",
              "    const percent = span('0% done');\n",
              "    li.appendChild(percent);\n",
              "\n",
              "    outputElement.appendChild(li);\n",
              "\n",
              "    const fileDataPromise = new Promise((resolve) => {\n",
              "      const reader = new FileReader();\n",
              "      reader.onload = (e) => {\n",
              "        resolve(e.target.result);\n",
              "      };\n",
              "      reader.readAsArrayBuffer(file);\n",
              "    });\n",
              "    // Wait for the data to be ready.\n",
              "    let fileData = yield {\n",
              "      promise: fileDataPromise,\n",
              "      response: {\n",
              "        action: 'continue',\n",
              "      }\n",
              "    };\n",
              "\n",
              "    // Use a chunked sending to avoid message size limits. See b/62115660.\n",
              "    let position = 0;\n",
              "    do {\n",
              "      const length = Math.min(fileData.byteLength - position, MAX_PAYLOAD_SIZE);\n",
              "      const chunk = new Uint8Array(fileData, position, length);\n",
              "      position += length;\n",
              "\n",
              "      const base64 = btoa(String.fromCharCode.apply(null, chunk));\n",
              "      yield {\n",
              "        response: {\n",
              "          action: 'append',\n",
              "          file: file.name,\n",
              "          data: base64,\n",
              "        },\n",
              "      };\n",
              "\n",
              "      let percentDone = fileData.byteLength === 0 ?\n",
              "          100 :\n",
              "          Math.round((position / fileData.byteLength) * 100);\n",
              "      percent.textContent = `${percentDone}% done`;\n",
              "\n",
              "    } while (position < fileData.byteLength);\n",
              "  }\n",
              "\n",
              "  // All done.\n",
              "  yield {\n",
              "    response: {\n",
              "      action: 'complete',\n",
              "    }\n",
              "  };\n",
              "}\n",
              "\n",
              "scope.google = scope.google || {};\n",
              "scope.google.colab = scope.google.colab || {};\n",
              "scope.google.colab._files = {\n",
              "  _uploadFiles,\n",
              "  _uploadFilesContinue,\n",
              "};\n",
              "})(self);\n",
              "</script> "
            ]
          },
          "metadata": {}
        },
        {
          "output_type": "stream",
          "name": "stdout",
          "text": [
            "Saving effusion.jpeg to effusion.jpeg\n"
          ]
        }
      ]
    },
    {
      "cell_type": "code",
      "source": [
        "# 8. rapor üretimi\n",
        "device = \"cuda\" if torch.cuda.is_available() else \"cpu\"\n",
        "print(\"Model yükleniyor...\")\n",
        "model = load_efficientnet_model(model_filename, num_classes=len(CLASSES), device=device)\n",
        "print(\"Görsel işleniyor...\")\n",
        "input_tensor = preprocess_image(image_filename)\n",
        "print(\"Tahmin yapılıyor...\")\n",
        "detected_labels, probs = predict_labels(model, input_tensor, threshold=0.5, device=device)\n",
        "print(image_filename)"
      ],
      "metadata": {
        "colab": {
          "base_uri": "https://localhost:8080/"
        },
        "id": "hD0mFJswazPz",
        "outputId": "10f43215-82f3-4700-f632-1c286ace5856"
      },
      "execution_count": null,
      "outputs": [
        {
          "output_type": "stream",
          "name": "stdout",
          "text": [
            "Model yükleniyor...\n",
            "Görsel işleniyor...\n",
            "Tahmin yapılıyor...\n",
            "effusion.jpeg\n"
          ]
        }
      ]
    },
    {
      "cell_type": "code",
      "source": [
        "# 9. rapor oluşturma\n",
        "import datetime\n",
        "patient_info = \"Ad Soyad: Örnek Hasta, Yaş: 60\"     # İsterseniz kullanıcıdan da alınabilir\n",
        "exam_date = datetime.date.today().strftime('%Y-%m-%d')\n",
        "prof_report = generate_professional_report(detected_labels, probs, CLASSES, patient_info=patient_info, exam_date=exam_date)\n",
        "\n",
        "print(prof_report)"
      ],
      "metadata": {
        "colab": {
          "base_uri": "https://localhost:8080/"
        },
        "id": "VmhkH8NDhMoe",
        "outputId": "1f0ead68-8038-45ee-cb25-6a58e2cf5dbd"
      },
      "execution_count": null,
      "outputs": [
        {
          "output_type": "stream",
          "name": "stdout",
          "text": [
            "TORAKS RADYOGRAFİ RAPORU\n",
            "\n",
            "Hasta Bilgileri: Ad Soyad: Örnek Hasta, Yaş: 60\n",
            "Çekim Tarihi: 2025-05-28\n",
            "\n",
            "Teknik: PA ve lateral akciğer grafisi değerlendirilmiştir.\n",
            "\n",
            "Akciğer Parankimi:\n",
            "- Akciğer parankiminde patolojik opasite izlenmemektedir.\n",
            "\n",
            "Plevra:\n",
            "- Plevral efüzyon izlenmektedir.\n",
            "- Plevral kalınlaşma mevcuttur.\n",
            "\n",
            "Mediastinum ve Kalp:\n",
            "- Kalp konturları ve mediastinal yapılar normal sınırlardadır.\n",
            "\n",
            "Diyafram ve Kostalar:\n",
            "- Diyafram ve kostalarda patolojik bulgu izlenmemektedir.\n",
            "\n",
            "Sonuç:\n",
            "- Atelectasis (olasılık: 0.60), Effusion (olasılık: 0.79), Mass (olasılık: 1.00), Pleural_Thickening (olasılık: 0.59) ile uyumlu bulgular izlenmiştir.\n",
            "\n",
            "Öneri:\n",
            "- Klinik ve laboratuvar bulgular ile birlikte değerlendirilmesi, gerekirse ileri tetkik (BT/HRCT) önerilir.\n",
            "\n"
          ]
        }
      ]
    }
  ]
}